{
 "cells": [
  {
   "cell_type": "code",
   "execution_count": 3,
   "metadata": {},
   "outputs": [],
   "source": [
    "# Import modules\n",
    "import torch\n",
    "import torch.nn as nn\n",
    "import torch.optim as optim\n",
    "import pandas as pd\n",
    "import numpy as np\n",
    "from torch.utils.data import DataLoader, TensorDataset\n",
    "import matplotlib.pyplot as plt\n",
    "\n",
    "# Import network objects\n",
    "from PolicyNetwork import PolicyNetwork\n",
    "from ValueNetwork import ValueNetwork"
   ]
  },
  {
   "cell_type": "code",
   "execution_count": 20,
   "metadata": {},
   "outputs": [
    {
     "name": "stdout",
     "output_type": "stream",
     "text": [
      "cpu\n"
     ]
    }
   ],
   "source": [
    "print('cuda' if torch.cuda.is_available() else 'cpu')"
   ]
  },
  {
   "cell_type": "code",
   "execution_count": 23,
   "metadata": {},
   "outputs": [
    {
     "data": {
      "text/plain": [
       "<All keys matched successfully>"
      ]
     },
     "execution_count": 23,
     "metadata": {},
     "output_type": "execute_result"
    }
   ],
   "source": [
    "# Train using gpu\n",
    "device = torch.device('cuda' if torch.cuda.is_available() else 'cpu')\n",
    "\n",
    "num_of_sensors = 50\n",
    "input_size = 4*num_of_sensors+2\n",
    "\n",
    "accel_policy = PolicyNetwork(input_size)\n",
    "turn_policy = PolicyNetwork(input_size)\n",
    "value_function = ValueNetwork(input_size)\n",
    "\n",
    "# Network locations\n",
    "acceleration_path = 'models/acceleration_network.pth'\n",
    "turn_path = 'models/turn_network.pth'\n",
    "value_path = 'models/value_network.pth'\n",
    "\n",
    "# Load networks\n",
    "accel_policy.load_state_dict(torch.load(acceleration_path))\n",
    "turn_policy.load_state_dict(torch.load(turn_path))\n",
    "value_function.load_state_dict(torch.load(value_path))\n"
   ]
  },
  {
   "cell_type": "code",
   "execution_count": 34,
   "metadata": {},
   "outputs": [],
   "source": [
    "# Load and read trajectory csv file\n",
    "trajectories_file = 'data/trajectories.csv'\n",
    "trajectories = pd.read_csv(trajectories_file)\n",
    "\n",
    "# Store trajectory values into state, action, reward vectors\n",
    "states = trajectories.iloc[:, 1:-3].values\n",
    "actions = trajectories.iloc[:, -3:-1].values\n",
    "rewards = trajectories.iloc[:, -1:].values\n",
    "\n",
    "# Calculate reward-to-go\n",
    "reward_to_go = np.array([[reward[0]] for reward in rewards])\n",
    "for i in range(len(reward_to_go)-2,-1,-1): reward_to_go[i][0] += reward_to_go[i][0]\n",
    "\n",
    "# Convert to tensor\n",
    "states_tensor = torch.tensor(states).float()\n",
    "actions_tensor = torch.tensor(states).float()\n",
    "reward_to_go_tensor = torch.tensor(states).float()\n",
    "\n",
    "#Store in dataset\n",
    "dataset = TensorDataset(states_tensor, reward_to_go_tensor)\n",
    "dataloader = DataLoader(dataset, batch_size=32, shuffle=True)"
   ]
  },
  {
   "cell_type": "markdown",
   "metadata": {},
   "source": [
    "Train value function"
   ]
  },
  {
   "cell_type": "code",
   "execution_count": 35,
   "metadata": {},
   "outputs": [
    {
     "name": "stderr",
     "output_type": "stream",
     "text": [
      "C:\\Users\\mattd\\AppData\\Roaming\\Python\\Python311\\site-packages\\torch\\nn\\modules\\loss.py:535: UserWarning: Using a target size (torch.Size([32, 202])) that is different to the input size (torch.Size([32, 1])). This will likely lead to incorrect results due to broadcasting. Please ensure they have the same size.\n",
      "  return F.mse_loss(input, target, reduction=self.reduction)\n",
      "C:\\Users\\mattd\\AppData\\Roaming\\Python\\Python311\\site-packages\\torch\\nn\\modules\\loss.py:535: UserWarning: Using a target size (torch.Size([7, 202])) that is different to the input size (torch.Size([7, 1])). This will likely lead to incorrect results due to broadcasting. Please ensure they have the same size.\n",
      "  return F.mse_loss(input, target, reduction=self.reduction)\n"
     ]
    },
    {
     "data": {
      "image/png": "[encoded data removed]",
      "text/plain": [
       "<Figure size 640x480 with 1 Axes>"
      ]
     },
     "metadata": {},
     "output_type": "display_data"
    }
   ],
   "source": [
    "loss_function = nn.MSELoss()\n",
    "optimizer = optim.Adam(value_function.parameters(), lr=0.0001, weight_decay=0.0001)\n",
    "\n",
    "losses = []\n",
    "epochs = 1000\n",
    "for epoch in range(epochs):\n",
    "    for inputs_batch, outputs_batch in dataloader:\n",
    "        # Move batches to GPU\n",
    "        inputs_batch, outputs_batch = inputs_batch.to(device), outputs_batch.to(device)\n",
    "        \n",
    "        # Zero the gradients\n",
    "        optimizer.zero_grad()\n",
    "        \n",
    "        # Forward pass\n",
    "        predictions = value_function(inputs_batch)\n",
    "\n",
    "        # Compute the loss\n",
    "        loss = loss_function(predictions, outputs_batch)\n",
    "        \n",
    "        # Backward pass\n",
    "        loss.backward()\n",
    "        \n",
    "        # Update weights\n",
    "        optimizer.step()\n",
    "\n",
    "    losses.append(loss.item())\n",
    "    \n",
    "plt.plot(losses)\n",
    "plt.show()"
   ]
  },
  {
   "cell_type": "markdown",
   "metadata": {},
   "source": [
    "Train Policy Networks"
   ]
  },
  {
   "cell_type": "code",
   "execution_count": 38,
   "metadata": {},
   "outputs": [],
   "source": [
    "policy_optimizer = optim.Adam(list(accel_policy.parameters())+list(turn_policy.parameters()),lr=0.0001)\n",
    "value_optimizer = optim.Adam(value_function.parameters(),lr=0.0001)\n",
    "\n",
    "epsilon = 0.2 # Clipping factor\n",
    "\n",
    "for epoch in range(epoch):\n",
    "\n",
    "    # Clone current policy and value networks\n",
    "    accel_policy_old = accel_policy.clone()\n",
    "    turn_policy_old = turn_policy.clone()\n",
    "    value_function_old = value_function.clone()\n",
    "\n",
    "    values = value_function(states)\n",
    "\n",
    "    # Freeze clone networks\n",
    "    for param in accel_policy_old.parameters(): param.requires_grad = False\n",
    "    for param in turn_policy_old.parameters(): param.requires_grad = False\n",
    "    for param in value_function_old.parameters(): param.requires_grad = False\n",
    "\n",
    "    # Calculate advantages\n",
    "    advantages = reward_to_go - value_function_old(states).numpy()\n",
    "\n",
    "    # Get old policy distribution from policy networks\n",
    "    accel_mean_old, accel_stdev_old = accel_policy_old(states)[:,0],accel_policy_old(states)[:,1]\n",
    "    turn_mean_old, turn_stdev_old = turn_policy_old(states)[:,0],turn_policy_old(states)[:,1]\n",
    "    # Get new policy distribution from policy networks\n",
    "    accel_mean, accel_stdev = accel_policy(states)[:,0],accel_policy(states)[:,1]\n",
    "    turn_mean, turn_stdev = turn_policy(states)[:,0],turn_policy(states)[:,1]\n",
    "\n",
    "    # Get acceleration and turn from actions taken\n",
    "    accelerations = actions[:,0]\n",
    "    turns = actions[:,1]\n",
    "\n",
    "    # Calulate probability given action using density function\n",
    "    pi = (1 / (accel_stdev * torch.sqrt(torch.tensor(2 * torch.pi)))) * torch.exp(-0.5 * ((accelerations - accel_mean) / accel_stdev) ** 2) * (1 / (turn_stdev * torch.sqrt(torch.tensor(2 * torch.pi)))) * torch.exp(-0.5 * ((turns - turn_mean) / turn_stdev) ** 2)\n",
    "    pi_old = (1 / (accel_stdev_old * torch.sqrt(torch.tensor(2 * torch.pi)))) * torch.exp(-0.5 * ((accelerations - accel_mean_old) / accel_stdev_old) ** 2) * (1 / (turn_stdev_old * torch.sqrt(torch.tensor(2 * torch.pi)))) * torch.exp(-0.5 * ((turns - turn_mean_old) / turn_stdev_old) ** 2)\n",
    "    \n",
    "    # Calculate probability ratios\n",
    "    ratios = pi / pi_old\n",
    "\n",
    "    # Compute PPO loss\n",
    "    surr1 = ratios * advantages\n",
    "    surr2 = torch.clamp(ratios, 1 - epsilon, 1 + epsilon) * advantages # Clipping\n",
    "    ppo_loss = -min(surr1,surr2).mean()\n",
    "\n",
    "    # Update policy net\n",
    "    policy_optimizer.zero_grad()\n",
    "    ppo_loss.backward()\n",
    "    policy_optimizer.step()\n",
    "\n",
    "    # Update value network\n",
    "    value_loss = nn.MSELoss()(values,reward_to_go)\n",
    "    value_optimizer.zero_grad()\n",
    "    value_loss.backward()\n",
    "    value_optimizer.step()"
   ]
  }
 ],
 "metadata": {
  "kernelspec": {
   "display_name": "Python 3",
   "language": "python",
   "name": "python3"
  },
  "language_info": {
   "codemirror_mode": {
    "name": "ipython",
    "version": 3
   },
   "file_extension": ".py",
   "mimetype": "text/x-python",
   "name": "python",
   "nbconvert_exporter": "python",
   "pygments_lexer": "ipython3",
   "version": "3.11.0"
  }
 },
 "nbformat": 4,
 "nbformat_minor": 2
}
